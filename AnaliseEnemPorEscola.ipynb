{
 "cells": [
  {
   "cell_type": "markdown",
   "metadata": {},
   "source": [
    "<h1> Análise de dados das escolas que participaram do ENEM</h1>"
   ]
  },
  {
   "cell_type": "markdown",
   "metadata": {},
   "source": [
    "<h3> 1. Primeiro vamos importar as bibliotecas que iremos usar abaixo:</h3>\n",
    "<ul>\n",
    " <li> pandas -> para tratamento dos dado </li>\n",
    " <li> numpy -> pacote básico para expressões matematicas </li>\n",
    " <li> Matplotlib -> para trabalharmos com os graficos</li>\n",
    "</ul>"
   ]
  },
  {
   "cell_type": "code",
   "execution_count": 1,
   "metadata": {},
   "outputs": [],
   "source": [
    "import pandas as pd\n",
    "import numpy as np\n",
    "import matplotlib.pyplot as plt\n",
    "low_memory=False\n",
    "%matplotlib notebook"
   ]
  },
  {
   "cell_type": "markdown",
   "metadata": {},
   "source": [
    "<h4>Leitura do arquivo</h4>\n",
    "<ul>\n",
    "    <li> pd.read_csv(\"nome do arquivo\", delimitador de celulas, codificação de fonte, colunas a serem usadas)</li>"
   ]
  },
  {
   "cell_type": "code",
   "execution_count": 2,
   "metadata": {},
   "outputs": [],
   "source": [
    "df = pd.read_csv('microdados_enem_por_escola\\\\dados\\\\MICRODADOS_ENEM_ESCOLA.csv',\n",
    "                 delimiter=';',\n",
    "                 encoding='iso-8859-1',\n",
    "                 usecols=[\"NU_ANO\", \"CO_UF_ESCOLA\", \"SG_UF_ESCOLA\", \"NO_MUNICIPIO_ESCOLA\", \"NO_ESCOLA_EDUCACENSO\", \"TP_DEPENDENCIA_ADM_ESCOLA\", \"TP_LOCALIZACAO_ESCOLA\", \"NU_MATRICULAS\", \"NU_PARTICIPANTES_NEC_ESP\", \"NU_PARTICIPANTES\", \"NU_TAXA_PARTICIPACAO\", \"NU_MEDIA_CN\", \"NU_MEDIA_CH\", \"NU_MEDIA_LP\", \"NU_MEDIA_MT\", \"NU_MEDIA_RED\", \"NU_MEDIA_OBJ\", \"NU_MEDIA_TOT\", \"NU_TAXA_APROVACAO\", \"NU_TAXA_REPROVACAO\", \"NU_TAXA_ABANDONO\", \"PORTE_ESCOLA\"])\n"
   ]
  },
  {
   "cell_type": "markdown",
   "metadata": {},
   "source": [
    "<h3>Resumo estatístico do DataFrame, com quartis, mediana, etc:</h3>"
   ]
  },
  {
   "cell_type": "code",
   "execution_count": 3,
   "metadata": {},
   "outputs": [
    {
     "data": {
      "text/html": [
       "<div>\n",
       "<style scoped>\n",
       "    .dataframe tbody tr th:only-of-type {\n",
       "        vertical-align: middle;\n",
       "    }\n",
       "\n",
       "    .dataframe tbody tr th {\n",
       "        vertical-align: top;\n",
       "    }\n",
       "\n",
       "    .dataframe thead th {\n",
       "        text-align: right;\n",
       "    }\n",
       "</style>\n",
       "<table border=\"1\" class=\"dataframe\">\n",
       "  <thead>\n",
       "    <tr style=\"text-align: right;\">\n",
       "      <th></th>\n",
       "      <th>NU_ANO</th>\n",
       "      <th>CO_UF_ESCOLA</th>\n",
       "      <th>TP_DEPENDENCIA_ADM_ESCOLA</th>\n",
       "      <th>TP_LOCALIZACAO_ESCOLA</th>\n",
       "      <th>NU_MATRICULAS</th>\n",
       "      <th>NU_PARTICIPANTES_NEC_ESP</th>\n",
       "      <th>NU_PARTICIPANTES</th>\n",
       "      <th>NU_TAXA_PARTICIPACAO</th>\n",
       "      <th>NU_MEDIA_CN</th>\n",
       "      <th>NU_MEDIA_CH</th>\n",
       "      <th>NU_MEDIA_LP</th>\n",
       "      <th>NU_MEDIA_MT</th>\n",
       "      <th>NU_MEDIA_RED</th>\n",
       "      <th>NU_MEDIA_OBJ</th>\n",
       "      <th>NU_MEDIA_TOT</th>\n",
       "      <th>NU_TAXA_APROVACAO</th>\n",
       "      <th>NU_TAXA_REPROVACAO</th>\n",
       "      <th>NU_TAXA_ABANDONO</th>\n",
       "    </tr>\n",
       "  </thead>\n",
       "  <tbody>\n",
       "    <tr>\n",
       "      <th>count</th>\n",
       "      <td>172305.000000</td>\n",
       "      <td>172305.000000</td>\n",
       "      <td>172305.000000</td>\n",
       "      <td>172305.000000</td>\n",
       "      <td>172305.000000</td>\n",
       "      <td>45355.000000</td>\n",
       "      <td>172305.000000</td>\n",
       "      <td>104687.000000</td>\n",
       "      <td>104687.000000</td>\n",
       "      <td>104687.000000</td>\n",
       "      <td>104687.000000</td>\n",
       "      <td>104687.000000</td>\n",
       "      <td>123451.000000</td>\n",
       "      <td>19144.000000</td>\n",
       "      <td>48474.000000</td>\n",
       "      <td>155226.000000</td>\n",
       "      <td>155226.000000</td>\n",
       "      <td>155226.000000</td>\n",
       "    </tr>\n",
       "    <tr>\n",
       "      <th>mean</th>\n",
       "      <td>2009.805659</td>\n",
       "      <td>33.121703</td>\n",
       "      <td>2.624201</td>\n",
       "      <td>1.034642</td>\n",
       "      <td>106.115609</td>\n",
       "      <td>0.347746</td>\n",
       "      <td>55.114878</td>\n",
       "      <td>64.443924</td>\n",
       "      <td>490.912972</td>\n",
       "      <td>531.750703</td>\n",
       "      <td>509.955970</td>\n",
       "      <td>512.976072</td>\n",
       "      <td>479.769969</td>\n",
       "      <td>40.379749</td>\n",
       "      <td>46.894043</td>\n",
       "      <td>82.698234</td>\n",
       "      <td>9.927615</td>\n",
       "      <td>7.374151</td>\n",
       "    </tr>\n",
       "    <tr>\n",
       "      <th>std</th>\n",
       "      <td>3.154137</td>\n",
       "      <td>9.075423</td>\n",
       "      <td>0.937417</td>\n",
       "      <td>0.182872</td>\n",
       "      <td>104.190568</td>\n",
       "      <td>1.019838</td>\n",
       "      <td>56.411082</td>\n",
       "      <td>23.221287</td>\n",
       "      <td>51.818260</td>\n",
       "      <td>55.280886</td>\n",
       "      <td>48.105396</td>\n",
       "      <td>73.124845</td>\n",
       "      <td>194.622638</td>\n",
       "      <td>9.883955</td>\n",
       "      <td>8.741270</td>\n",
       "      <td>13.280532</td>\n",
       "      <td>8.407889</td>\n",
       "      <td>9.049976</td>\n",
       "    </tr>\n",
       "    <tr>\n",
       "      <th>min</th>\n",
       "      <td>2005.000000</td>\n",
       "      <td>11.000000</td>\n",
       "      <td>1.000000</td>\n",
       "      <td>1.000000</td>\n",
       "      <td>0.000000</td>\n",
       "      <td>0.000000</td>\n",
       "      <td>10.000000</td>\n",
       "      <td>2.000000</td>\n",
       "      <td>324.850000</td>\n",
       "      <td>357.870000</td>\n",
       "      <td>319.260000</td>\n",
       "      <td>357.980000</td>\n",
       "      <td>29.380000</td>\n",
       "      <td>17.310000</td>\n",
       "      <td>16.010000</td>\n",
       "      <td>0.000000</td>\n",
       "      <td>0.000000</td>\n",
       "      <td>0.000000</td>\n",
       "    </tr>\n",
       "    <tr>\n",
       "      <th>25%</th>\n",
       "      <td>2007.000000</td>\n",
       "      <td>28.000000</td>\n",
       "      <td>2.000000</td>\n",
       "      <td>1.000000</td>\n",
       "      <td>37.000000</td>\n",
       "      <td>0.000000</td>\n",
       "      <td>20.000000</td>\n",
       "      <td>51.350000</td>\n",
       "      <td>453.630000</td>\n",
       "      <td>492.420000</td>\n",
       "      <td>475.640000</td>\n",
       "      <td>458.560000</td>\n",
       "      <td>462.640000</td>\n",
       "      <td>33.490000</td>\n",
       "      <td>40.680000</td>\n",
       "      <td>73.900000</td>\n",
       "      <td>3.600000</td>\n",
       "      <td>0.000000</td>\n",
       "    </tr>\n",
       "    <tr>\n",
       "      <th>50%</th>\n",
       "      <td>2010.000000</td>\n",
       "      <td>33.000000</td>\n",
       "      <td>2.000000</td>\n",
       "      <td>1.000000</td>\n",
       "      <td>73.000000</td>\n",
       "      <td>0.000000</td>\n",
       "      <td>36.000000</td>\n",
       "      <td>65.910000</td>\n",
       "      <td>478.000000</td>\n",
       "      <td>527.790000</td>\n",
       "      <td>504.870000</td>\n",
       "      <td>494.300000</td>\n",
       "      <td>540.250000</td>\n",
       "      <td>37.650000</td>\n",
       "      <td>45.280000</td>\n",
       "      <td>85.000000</td>\n",
       "      <td>7.900000</td>\n",
       "      <td>3.800000</td>\n",
       "    </tr>\n",
       "    <tr>\n",
       "      <th>75%</th>\n",
       "      <td>2013.000000</td>\n",
       "      <td>35.000000</td>\n",
       "      <td>4.000000</td>\n",
       "      <td>1.000000</td>\n",
       "      <td>139.000000</td>\n",
       "      <td>0.000000</td>\n",
       "      <td>68.000000</td>\n",
       "      <td>83.720000</td>\n",
       "      <td>521.210000</td>\n",
       "      <td>567.950000</td>\n",
       "      <td>542.930000</td>\n",
       "      <td>554.610000</td>\n",
       "      <td>598.500000</td>\n",
       "      <td>44.200000</td>\n",
       "      <td>51.700000</td>\n",
       "      <td>93.900000</td>\n",
       "      <td>14.100000</td>\n",
       "      <td>12.000000</td>\n",
       "    </tr>\n",
       "    <tr>\n",
       "      <th>max</th>\n",
       "      <td>2015.000000</td>\n",
       "      <td>53.000000</td>\n",
       "      <td>4.000000</td>\n",
       "      <td>2.000000</td>\n",
       "      <td>2572.000000</td>\n",
       "      <td>29.000000</td>\n",
       "      <td>1190.000000</td>\n",
       "      <td>100.000000</td>\n",
       "      <td>755.160000</td>\n",
       "      <td>758.040000</td>\n",
       "      <td>712.350000</td>\n",
       "      <td>873.650000</td>\n",
       "      <td>930.000000</td>\n",
       "      <td>82.960000</td>\n",
       "      <td>82.970000</td>\n",
       "      <td>100.000000</td>\n",
       "      <td>100.000000</td>\n",
       "      <td>100.000000</td>\n",
       "    </tr>\n",
       "  </tbody>\n",
       "</table>\n",
       "</div>"
      ],
      "text/plain": [
       "              NU_ANO   CO_UF_ESCOLA  TP_DEPENDENCIA_ADM_ESCOLA  \\\n",
       "count  172305.000000  172305.000000              172305.000000   \n",
       "mean     2009.805659      33.121703                   2.624201   \n",
       "std         3.154137       9.075423                   0.937417   \n",
       "min      2005.000000      11.000000                   1.000000   \n",
       "25%      2007.000000      28.000000                   2.000000   \n",
       "50%      2010.000000      33.000000                   2.000000   \n",
       "75%      2013.000000      35.000000                   4.000000   \n",
       "max      2015.000000      53.000000                   4.000000   \n",
       "\n",
       "       TP_LOCALIZACAO_ESCOLA  NU_MATRICULAS  NU_PARTICIPANTES_NEC_ESP  \\\n",
       "count          172305.000000  172305.000000              45355.000000   \n",
       "mean                1.034642     106.115609                  0.347746   \n",
       "std                 0.182872     104.190568                  1.019838   \n",
       "min                 1.000000       0.000000                  0.000000   \n",
       "25%                 1.000000      37.000000                  0.000000   \n",
       "50%                 1.000000      73.000000                  0.000000   \n",
       "75%                 1.000000     139.000000                  0.000000   \n",
       "max                 2.000000    2572.000000                 29.000000   \n",
       "\n",
       "       NU_PARTICIPANTES  NU_TAXA_PARTICIPACAO    NU_MEDIA_CN    NU_MEDIA_CH  \\\n",
       "count     172305.000000         104687.000000  104687.000000  104687.000000   \n",
       "mean          55.114878             64.443924     490.912972     531.750703   \n",
       "std           56.411082             23.221287      51.818260      55.280886   \n",
       "min           10.000000              2.000000     324.850000     357.870000   \n",
       "25%           20.000000             51.350000     453.630000     492.420000   \n",
       "50%           36.000000             65.910000     478.000000     527.790000   \n",
       "75%           68.000000             83.720000     521.210000     567.950000   \n",
       "max         1190.000000            100.000000     755.160000     758.040000   \n",
       "\n",
       "         NU_MEDIA_LP    NU_MEDIA_MT   NU_MEDIA_RED  NU_MEDIA_OBJ  \\\n",
       "count  104687.000000  104687.000000  123451.000000  19144.000000   \n",
       "mean      509.955970     512.976072     479.769969     40.379749   \n",
       "std        48.105396      73.124845     194.622638      9.883955   \n",
       "min       319.260000     357.980000      29.380000     17.310000   \n",
       "25%       475.640000     458.560000     462.640000     33.490000   \n",
       "50%       504.870000     494.300000     540.250000     37.650000   \n",
       "75%       542.930000     554.610000     598.500000     44.200000   \n",
       "max       712.350000     873.650000     930.000000     82.960000   \n",
       "\n",
       "       NU_MEDIA_TOT  NU_TAXA_APROVACAO  NU_TAXA_REPROVACAO  NU_TAXA_ABANDONO  \n",
       "count  48474.000000      155226.000000       155226.000000     155226.000000  \n",
       "mean      46.894043          82.698234            9.927615          7.374151  \n",
       "std        8.741270          13.280532            8.407889          9.049976  \n",
       "min       16.010000           0.000000            0.000000          0.000000  \n",
       "25%       40.680000          73.900000            3.600000          0.000000  \n",
       "50%       45.280000          85.000000            7.900000          3.800000  \n",
       "75%       51.700000          93.900000           14.100000         12.000000  \n",
       "max       82.970000         100.000000          100.000000        100.000000  "
      ]
     },
     "execution_count": 3,
     "metadata": {},
     "output_type": "execute_result"
    }
   ],
   "source": [
    "df.describe()"
   ]
  },
  {
   "cell_type": "markdown",
   "metadata": {},
   "source": [
    "<h3>Mostra os dez primeiros registros do dataframe</h3>"
   ]
  },
  {
   "cell_type": "code",
   "execution_count": 22,
   "metadata": {},
   "outputs": [
    {
     "data": {
      "text/html": [
       "<div>\n",
       "<style scoped>\n",
       "    .dataframe tbody tr th:only-of-type {\n",
       "        vertical-align: middle;\n",
       "    }\n",
       "\n",
       "    .dataframe tbody tr th {\n",
       "        vertical-align: top;\n",
       "    }\n",
       "\n",
       "    .dataframe thead th {\n",
       "        text-align: right;\n",
       "    }\n",
       "</style>\n",
       "<table border=\"1\" class=\"dataframe\">\n",
       "  <thead>\n",
       "    <tr style=\"text-align: right;\">\n",
       "      <th></th>\n",
       "      <th>NU_ANO</th>\n",
       "      <th>CO_UF_ESCOLA</th>\n",
       "      <th>SG_UF_ESCOLA</th>\n",
       "      <th>NO_MUNICIPIO_ESCOLA</th>\n",
       "      <th>NO_ESCOLA_EDUCACENSO</th>\n",
       "      <th>TP_DEPENDENCIA_ADM_ESCOLA</th>\n",
       "      <th>TP_LOCALIZACAO_ESCOLA</th>\n",
       "      <th>NU_MATRICULAS</th>\n",
       "      <th>NU_PARTICIPANTES_NEC_ESP</th>\n",
       "      <th>NU_PARTICIPANTES</th>\n",
       "      <th>...</th>\n",
       "      <th>NU_MEDIA_CH</th>\n",
       "      <th>NU_MEDIA_LP</th>\n",
       "      <th>NU_MEDIA_MT</th>\n",
       "      <th>NU_MEDIA_RED</th>\n",
       "      <th>NU_MEDIA_OBJ</th>\n",
       "      <th>NU_MEDIA_TOT</th>\n",
       "      <th>NU_TAXA_APROVACAO</th>\n",
       "      <th>NU_TAXA_REPROVACAO</th>\n",
       "      <th>NU_TAXA_ABANDONO</th>\n",
       "      <th>PORTE_ESCOLA</th>\n",
       "    </tr>\n",
       "  </thead>\n",
       "  <tbody>\n",
       "    <tr>\n",
       "      <th>0</th>\n",
       "      <td>2007</td>\n",
       "      <td>11</td>\n",
       "      <td>RO</td>\n",
       "      <td>Porto Velho</td>\n",
       "      <td>CENTRO DE ENSINO CLASSE A</td>\n",
       "      <td>4</td>\n",
       "      <td>1</td>\n",
       "      <td>144</td>\n",
       "      <td>NaN</td>\n",
       "      <td>140</td>\n",
       "      <td>...</td>\n",
       "      <td>NaN</td>\n",
       "      <td>NaN</td>\n",
       "      <td>NaN</td>\n",
       "      <td>NaN</td>\n",
       "      <td>NaN</td>\n",
       "      <td>69.03</td>\n",
       "      <td>91.9</td>\n",
       "      <td>8.1</td>\n",
       "      <td>0.0</td>\n",
       "      <td>Maior que 90 alunos</td>\n",
       "    </tr>\n",
       "    <tr>\n",
       "      <th>1</th>\n",
       "      <td>2006</td>\n",
       "      <td>11</td>\n",
       "      <td>RO</td>\n",
       "      <td>Porto Velho</td>\n",
       "      <td>CENTRO DE ENSINO CLASSE A</td>\n",
       "      <td>4</td>\n",
       "      <td>1</td>\n",
       "      <td>184</td>\n",
       "      <td>NaN</td>\n",
       "      <td>139</td>\n",
       "      <td>...</td>\n",
       "      <td>NaN</td>\n",
       "      <td>NaN</td>\n",
       "      <td>NaN</td>\n",
       "      <td>NaN</td>\n",
       "      <td>NaN</td>\n",
       "      <td>57.82</td>\n",
       "      <td>NaN</td>\n",
       "      <td>NaN</td>\n",
       "      <td>NaN</td>\n",
       "      <td>Maior que 90 alunos</td>\n",
       "    </tr>\n",
       "    <tr>\n",
       "      <th>2</th>\n",
       "      <td>2005</td>\n",
       "      <td>11</td>\n",
       "      <td>RO</td>\n",
       "      <td>Porto Velho</td>\n",
       "      <td>CENTRO DE ENSINO CLASSE A</td>\n",
       "      <td>4</td>\n",
       "      <td>1</td>\n",
       "      <td>220</td>\n",
       "      <td>NaN</td>\n",
       "      <td>145</td>\n",
       "      <td>...</td>\n",
       "      <td>NaN</td>\n",
       "      <td>NaN</td>\n",
       "      <td>NaN</td>\n",
       "      <td>NaN</td>\n",
       "      <td>NaN</td>\n",
       "      <td>64.83</td>\n",
       "      <td>86.5</td>\n",
       "      <td>12.4</td>\n",
       "      <td>1.1</td>\n",
       "      <td>Maior que 90 alunos</td>\n",
       "    </tr>\n",
       "    <tr>\n",
       "      <th>3</th>\n",
       "      <td>2008</td>\n",
       "      <td>11</td>\n",
       "      <td>RO</td>\n",
       "      <td>Porto Velho</td>\n",
       "      <td>CENTRO DE ENSINO CLASSE A</td>\n",
       "      <td>4</td>\n",
       "      <td>1</td>\n",
       "      <td>186</td>\n",
       "      <td>NaN</td>\n",
       "      <td>171</td>\n",
       "      <td>...</td>\n",
       "      <td>NaN</td>\n",
       "      <td>NaN</td>\n",
       "      <td>NaN</td>\n",
       "      <td>72.16</td>\n",
       "      <td>60.02</td>\n",
       "      <td>NaN</td>\n",
       "      <td>90.3</td>\n",
       "      <td>9.7</td>\n",
       "      <td>0.0</td>\n",
       "      <td>Maior que 90 alunos</td>\n",
       "    </tr>\n",
       "    <tr>\n",
       "      <th>4</th>\n",
       "      <td>2007</td>\n",
       "      <td>11</td>\n",
       "      <td>RO</td>\n",
       "      <td>Porto Velho</td>\n",
       "      <td>CENTRO EDUCACIONAL MOJUCA</td>\n",
       "      <td>4</td>\n",
       "      <td>1</td>\n",
       "      <td>19</td>\n",
       "      <td>NaN</td>\n",
       "      <td>12</td>\n",
       "      <td>...</td>\n",
       "      <td>NaN</td>\n",
       "      <td>NaN</td>\n",
       "      <td>NaN</td>\n",
       "      <td>NaN</td>\n",
       "      <td>NaN</td>\n",
       "      <td>58.84</td>\n",
       "      <td>74.2</td>\n",
       "      <td>21.0</td>\n",
       "      <td>4.8</td>\n",
       "      <td>De 1 a 30 alunos</td>\n",
       "    </tr>\n",
       "    <tr>\n",
       "      <th>5</th>\n",
       "      <td>2008</td>\n",
       "      <td>11</td>\n",
       "      <td>RO</td>\n",
       "      <td>Porto Velho</td>\n",
       "      <td>CENTRO EDUCACIONAL MOJUCA</td>\n",
       "      <td>4</td>\n",
       "      <td>1</td>\n",
       "      <td>33</td>\n",
       "      <td>NaN</td>\n",
       "      <td>13</td>\n",
       "      <td>...</td>\n",
       "      <td>NaN</td>\n",
       "      <td>NaN</td>\n",
       "      <td>NaN</td>\n",
       "      <td>59.81</td>\n",
       "      <td>42.49</td>\n",
       "      <td>NaN</td>\n",
       "      <td>79.1</td>\n",
       "      <td>17.9</td>\n",
       "      <td>3.0</td>\n",
       "      <td>De 31 a 60 alunos</td>\n",
       "    </tr>\n",
       "    <tr>\n",
       "      <th>6</th>\n",
       "      <td>2005</td>\n",
       "      <td>11</td>\n",
       "      <td>RO</td>\n",
       "      <td>Porto Velho</td>\n",
       "      <td>CENTRO EDUCACIONAL MOJUCA</td>\n",
       "      <td>4</td>\n",
       "      <td>1</td>\n",
       "      <td>25</td>\n",
       "      <td>NaN</td>\n",
       "      <td>10</td>\n",
       "      <td>...</td>\n",
       "      <td>NaN</td>\n",
       "      <td>NaN</td>\n",
       "      <td>NaN</td>\n",
       "      <td>NaN</td>\n",
       "      <td>NaN</td>\n",
       "      <td>35.44</td>\n",
       "      <td>69.3</td>\n",
       "      <td>25.0</td>\n",
       "      <td>5.7</td>\n",
       "      <td>De 1 a 30 alunos</td>\n",
       "    </tr>\n",
       "    <tr>\n",
       "      <th>7</th>\n",
       "      <td>2005</td>\n",
       "      <td>11</td>\n",
       "      <td>RO</td>\n",
       "      <td>Porto Velho</td>\n",
       "      <td>INTERATIVO  CURSOS E COLEGIO</td>\n",
       "      <td>4</td>\n",
       "      <td>1</td>\n",
       "      <td>87</td>\n",
       "      <td>NaN</td>\n",
       "      <td>29</td>\n",
       "      <td>...</td>\n",
       "      <td>NaN</td>\n",
       "      <td>NaN</td>\n",
       "      <td>NaN</td>\n",
       "      <td>NaN</td>\n",
       "      <td>NaN</td>\n",
       "      <td>48.46</td>\n",
       "      <td>86.5</td>\n",
       "      <td>13.5</td>\n",
       "      <td>0.0</td>\n",
       "      <td>De 61 a 90 alunos</td>\n",
       "    </tr>\n",
       "    <tr>\n",
       "      <th>8</th>\n",
       "      <td>2006</td>\n",
       "      <td>11</td>\n",
       "      <td>RO</td>\n",
       "      <td>Porto Velho</td>\n",
       "      <td>INTERATIVO  CURSOS E COLEGIO</td>\n",
       "      <td>4</td>\n",
       "      <td>1</td>\n",
       "      <td>82</td>\n",
       "      <td>NaN</td>\n",
       "      <td>32</td>\n",
       "      <td>...</td>\n",
       "      <td>NaN</td>\n",
       "      <td>NaN</td>\n",
       "      <td>NaN</td>\n",
       "      <td>NaN</td>\n",
       "      <td>NaN</td>\n",
       "      <td>43.73</td>\n",
       "      <td>NaN</td>\n",
       "      <td>NaN</td>\n",
       "      <td>NaN</td>\n",
       "      <td>De 61 a 90 alunos</td>\n",
       "    </tr>\n",
       "    <tr>\n",
       "      <th>9</th>\n",
       "      <td>2008</td>\n",
       "      <td>11</td>\n",
       "      <td>RO</td>\n",
       "      <td>Porto Velho</td>\n",
       "      <td>INTERAÇÃO - CURSOS E COLÉGIO</td>\n",
       "      <td>4</td>\n",
       "      <td>1</td>\n",
       "      <td>31</td>\n",
       "      <td>NaN</td>\n",
       "      <td>11</td>\n",
       "      <td>...</td>\n",
       "      <td>NaN</td>\n",
       "      <td>NaN</td>\n",
       "      <td>NaN</td>\n",
       "      <td>59.55</td>\n",
       "      <td>45.60</td>\n",
       "      <td>NaN</td>\n",
       "      <td>90.8</td>\n",
       "      <td>9.2</td>\n",
       "      <td>0.0</td>\n",
       "      <td>De 31 a 60 alunos</td>\n",
       "    </tr>\n",
       "  </tbody>\n",
       "</table>\n",
       "<p>10 rows × 22 columns</p>\n",
       "</div>"
      ],
      "text/plain": [
       "   NU_ANO  CO_UF_ESCOLA SG_UF_ESCOLA NO_MUNICIPIO_ESCOLA  \\\n",
       "0    2007            11           RO         Porto Velho   \n",
       "1    2006            11           RO         Porto Velho   \n",
       "2    2005            11           RO         Porto Velho   \n",
       "3    2008            11           RO         Porto Velho   \n",
       "4    2007            11           RO         Porto Velho   \n",
       "5    2008            11           RO         Porto Velho   \n",
       "6    2005            11           RO         Porto Velho   \n",
       "7    2005            11           RO         Porto Velho   \n",
       "8    2006            11           RO         Porto Velho   \n",
       "9    2008            11           RO         Porto Velho   \n",
       "\n",
       "           NO_ESCOLA_EDUCACENSO  TP_DEPENDENCIA_ADM_ESCOLA  \\\n",
       "0     CENTRO DE ENSINO CLASSE A                          4   \n",
       "1     CENTRO DE ENSINO CLASSE A                          4   \n",
       "2     CENTRO DE ENSINO CLASSE A                          4   \n",
       "3     CENTRO DE ENSINO CLASSE A                          4   \n",
       "4     CENTRO EDUCACIONAL MOJUCA                          4   \n",
       "5     CENTRO EDUCACIONAL MOJUCA                          4   \n",
       "6     CENTRO EDUCACIONAL MOJUCA                          4   \n",
       "7  INTERATIVO  CURSOS E COLEGIO                          4   \n",
       "8  INTERATIVO  CURSOS E COLEGIO                          4   \n",
       "9  INTERAÇÃO - CURSOS E COLÉGIO                          4   \n",
       "\n",
       "   TP_LOCALIZACAO_ESCOLA  NU_MATRICULAS  NU_PARTICIPANTES_NEC_ESP  \\\n",
       "0                      1            144                       NaN   \n",
       "1                      1            184                       NaN   \n",
       "2                      1            220                       NaN   \n",
       "3                      1            186                       NaN   \n",
       "4                      1             19                       NaN   \n",
       "5                      1             33                       NaN   \n",
       "6                      1             25                       NaN   \n",
       "7                      1             87                       NaN   \n",
       "8                      1             82                       NaN   \n",
       "9                      1             31                       NaN   \n",
       "\n",
       "   NU_PARTICIPANTES  ...  NU_MEDIA_CH  NU_MEDIA_LP  NU_MEDIA_MT  NU_MEDIA_RED  \\\n",
       "0               140  ...          NaN          NaN          NaN           NaN   \n",
       "1               139  ...          NaN          NaN          NaN           NaN   \n",
       "2               145  ...          NaN          NaN          NaN           NaN   \n",
       "3               171  ...          NaN          NaN          NaN         72.16   \n",
       "4                12  ...          NaN          NaN          NaN           NaN   \n",
       "5                13  ...          NaN          NaN          NaN         59.81   \n",
       "6                10  ...          NaN          NaN          NaN           NaN   \n",
       "7                29  ...          NaN          NaN          NaN           NaN   \n",
       "8                32  ...          NaN          NaN          NaN           NaN   \n",
       "9                11  ...          NaN          NaN          NaN         59.55   \n",
       "\n",
       "   NU_MEDIA_OBJ  NU_MEDIA_TOT  NU_TAXA_APROVACAO  NU_TAXA_REPROVACAO  \\\n",
       "0           NaN         69.03               91.9                 8.1   \n",
       "1           NaN         57.82                NaN                 NaN   \n",
       "2           NaN         64.83               86.5                12.4   \n",
       "3         60.02           NaN               90.3                 9.7   \n",
       "4           NaN         58.84               74.2                21.0   \n",
       "5         42.49           NaN               79.1                17.9   \n",
       "6           NaN         35.44               69.3                25.0   \n",
       "7           NaN         48.46               86.5                13.5   \n",
       "8           NaN         43.73                NaN                 NaN   \n",
       "9         45.60           NaN               90.8                 9.2   \n",
       "\n",
       "   NU_TAXA_ABANDONO         PORTE_ESCOLA  \n",
       "0               0.0  Maior que 90 alunos  \n",
       "1               NaN  Maior que 90 alunos  \n",
       "2               1.1  Maior que 90 alunos  \n",
       "3               0.0  Maior que 90 alunos  \n",
       "4               4.8     De 1 a 30 alunos  \n",
       "5               3.0    De 31 a 60 alunos  \n",
       "6               5.7     De 1 a 30 alunos  \n",
       "7               0.0    De 61 a 90 alunos  \n",
       "8               NaN    De 61 a 90 alunos  \n",
       "9               0.0    De 31 a 60 alunos  \n",
       "\n",
       "[10 rows x 22 columns]"
      ]
     },
     "execution_count": 22,
     "metadata": {},
     "output_type": "execute_result"
    }
   ],
   "source": [
    "df.head(n=10)"
   ]
  },
  {
   "cell_type": "markdown",
   "metadata": {},
   "source": [
    "<h3>Esta função retorna as últimas n linhas do objeto com base na posição</h3>"
   ]
  },
  {
   "cell_type": "code",
   "execution_count": 23,
   "metadata": {},
   "outputs": [
    {
     "data": {
      "text/html": [
       "<div>\n",
       "<style scoped>\n",
       "    .dataframe tbody tr th:only-of-type {\n",
       "        vertical-align: middle;\n",
       "    }\n",
       "\n",
       "    .dataframe tbody tr th {\n",
       "        vertical-align: top;\n",
       "    }\n",
       "\n",
       "    .dataframe thead th {\n",
       "        text-align: right;\n",
       "    }\n",
       "</style>\n",
       "<table border=\"1\" class=\"dataframe\">\n",
       "  <thead>\n",
       "    <tr style=\"text-align: right;\">\n",
       "      <th></th>\n",
       "      <th>NU_ANO</th>\n",
       "      <th>CO_UF_ESCOLA</th>\n",
       "      <th>SG_UF_ESCOLA</th>\n",
       "      <th>NO_MUNICIPIO_ESCOLA</th>\n",
       "      <th>NO_ESCOLA_EDUCACENSO</th>\n",
       "      <th>TP_DEPENDENCIA_ADM_ESCOLA</th>\n",
       "      <th>TP_LOCALIZACAO_ESCOLA</th>\n",
       "      <th>NU_MATRICULAS</th>\n",
       "      <th>NU_PARTICIPANTES_NEC_ESP</th>\n",
       "      <th>NU_PARTICIPANTES</th>\n",
       "      <th>...</th>\n",
       "      <th>NU_MEDIA_CH</th>\n",
       "      <th>NU_MEDIA_LP</th>\n",
       "      <th>NU_MEDIA_MT</th>\n",
       "      <th>NU_MEDIA_RED</th>\n",
       "      <th>NU_MEDIA_OBJ</th>\n",
       "      <th>NU_MEDIA_TOT</th>\n",
       "      <th>NU_TAXA_APROVACAO</th>\n",
       "      <th>NU_TAXA_REPROVACAO</th>\n",
       "      <th>NU_TAXA_ABANDONO</th>\n",
       "      <th>PORTE_ESCOLA</th>\n",
       "    </tr>\n",
       "  </thead>\n",
       "  <tbody>\n",
       "    <tr>\n",
       "      <th>172300</th>\n",
       "      <td>2013</td>\n",
       "      <td>53</td>\n",
       "      <td>DF</td>\n",
       "      <td>Brasília</td>\n",
       "      <td>CED 310 DE SANTA MARIA</td>\n",
       "      <td>2</td>\n",
       "      <td>1</td>\n",
       "      <td>213</td>\n",
       "      <td>2.0</td>\n",
       "      <td>147</td>\n",
       "      <td>...</td>\n",
       "      <td>496.43</td>\n",
       "      <td>477.62</td>\n",
       "      <td>483.17</td>\n",
       "      <td>503.86</td>\n",
       "      <td>NaN</td>\n",
       "      <td>NaN</td>\n",
       "      <td>83.1</td>\n",
       "      <td>9.1</td>\n",
       "      <td>7.8</td>\n",
       "      <td>Maior que 90 alunos</td>\n",
       "    </tr>\n",
       "    <tr>\n",
       "      <th>172301</th>\n",
       "      <td>2014</td>\n",
       "      <td>53</td>\n",
       "      <td>DF</td>\n",
       "      <td>Brasília</td>\n",
       "      <td>CED 310 DE SANTA MARIA</td>\n",
       "      <td>2</td>\n",
       "      <td>1</td>\n",
       "      <td>138</td>\n",
       "      <td>2.0</td>\n",
       "      <td>100</td>\n",
       "      <td>...</td>\n",
       "      <td>542.91</td>\n",
       "      <td>500.61</td>\n",
       "      <td>453.76</td>\n",
       "      <td>470.20</td>\n",
       "      <td>NaN</td>\n",
       "      <td>NaN</td>\n",
       "      <td>81.2</td>\n",
       "      <td>17.5</td>\n",
       "      <td>1.3</td>\n",
       "      <td>Maior que 90 alunos</td>\n",
       "    </tr>\n",
       "    <tr>\n",
       "      <th>172302</th>\n",
       "      <td>2015</td>\n",
       "      <td>53</td>\n",
       "      <td>DF</td>\n",
       "      <td>Brasília</td>\n",
       "      <td>CED 310 DE SANTA MARIA</td>\n",
       "      <td>2</td>\n",
       "      <td>1</td>\n",
       "      <td>198</td>\n",
       "      <td>8.0</td>\n",
       "      <td>152</td>\n",
       "      <td>...</td>\n",
       "      <td>540.94</td>\n",
       "      <td>497.75</td>\n",
       "      <td>428.90</td>\n",
       "      <td>517.24</td>\n",
       "      <td>NaN</td>\n",
       "      <td>NaN</td>\n",
       "      <td>78.9</td>\n",
       "      <td>10.1</td>\n",
       "      <td>11.0</td>\n",
       "      <td>Maior que 90 alunos</td>\n",
       "    </tr>\n",
       "    <tr>\n",
       "      <th>172303</th>\n",
       "      <td>2014</td>\n",
       "      <td>53</td>\n",
       "      <td>DF</td>\n",
       "      <td>Brasília</td>\n",
       "      <td>COL IMPACTO</td>\n",
       "      <td>4</td>\n",
       "      <td>1</td>\n",
       "      <td>12</td>\n",
       "      <td>0.0</td>\n",
       "      <td>10</td>\n",
       "      <td>...</td>\n",
       "      <td>560.65</td>\n",
       "      <td>546.61</td>\n",
       "      <td>513.08</td>\n",
       "      <td>482.00</td>\n",
       "      <td>NaN</td>\n",
       "      <td>NaN</td>\n",
       "      <td>91.4</td>\n",
       "      <td>8.6</td>\n",
       "      <td>0.0</td>\n",
       "      <td>De 1 a 30 alunos</td>\n",
       "    </tr>\n",
       "    <tr>\n",
       "      <th>172304</th>\n",
       "      <td>2015</td>\n",
       "      <td>53</td>\n",
       "      <td>DF</td>\n",
       "      <td>Brasília</td>\n",
       "      <td>COL IMPACTO</td>\n",
       "      <td>4</td>\n",
       "      <td>1</td>\n",
       "      <td>28</td>\n",
       "      <td>0.0</td>\n",
       "      <td>20</td>\n",
       "      <td>...</td>\n",
       "      <td>585.70</td>\n",
       "      <td>550.83</td>\n",
       "      <td>464.84</td>\n",
       "      <td>578.00</td>\n",
       "      <td>NaN</td>\n",
       "      <td>NaN</td>\n",
       "      <td>95.0</td>\n",
       "      <td>5.0</td>\n",
       "      <td>0.0</td>\n",
       "      <td>De 1 a 30 alunos</td>\n",
       "    </tr>\n",
       "  </tbody>\n",
       "</table>\n",
       "<p>5 rows × 22 columns</p>\n",
       "</div>"
      ],
      "text/plain": [
       "        NU_ANO  CO_UF_ESCOLA SG_UF_ESCOLA NO_MUNICIPIO_ESCOLA  \\\n",
       "172300    2013            53           DF            Brasília   \n",
       "172301    2014            53           DF            Brasília   \n",
       "172302    2015            53           DF            Brasília   \n",
       "172303    2014            53           DF            Brasília   \n",
       "172304    2015            53           DF            Brasília   \n",
       "\n",
       "          NO_ESCOLA_EDUCACENSO  TP_DEPENDENCIA_ADM_ESCOLA  \\\n",
       "172300  CED 310 DE SANTA MARIA                          2   \n",
       "172301  CED 310 DE SANTA MARIA                          2   \n",
       "172302  CED 310 DE SANTA MARIA                          2   \n",
       "172303             COL IMPACTO                          4   \n",
       "172304             COL IMPACTO                          4   \n",
       "\n",
       "        TP_LOCALIZACAO_ESCOLA  NU_MATRICULAS  NU_PARTICIPANTES_NEC_ESP  \\\n",
       "172300                      1            213                       2.0   \n",
       "172301                      1            138                       2.0   \n",
       "172302                      1            198                       8.0   \n",
       "172303                      1             12                       0.0   \n",
       "172304                      1             28                       0.0   \n",
       "\n",
       "        NU_PARTICIPANTES  ...  NU_MEDIA_CH  NU_MEDIA_LP  NU_MEDIA_MT  \\\n",
       "172300               147  ...       496.43       477.62       483.17   \n",
       "172301               100  ...       542.91       500.61       453.76   \n",
       "172302               152  ...       540.94       497.75       428.90   \n",
       "172303                10  ...       560.65       546.61       513.08   \n",
       "172304                20  ...       585.70       550.83       464.84   \n",
       "\n",
       "        NU_MEDIA_RED  NU_MEDIA_OBJ  NU_MEDIA_TOT  NU_TAXA_APROVACAO  \\\n",
       "172300        503.86           NaN           NaN               83.1   \n",
       "172301        470.20           NaN           NaN               81.2   \n",
       "172302        517.24           NaN           NaN               78.9   \n",
       "172303        482.00           NaN           NaN               91.4   \n",
       "172304        578.00           NaN           NaN               95.0   \n",
       "\n",
       "        NU_TAXA_REPROVACAO  NU_TAXA_ABANDONO         PORTE_ESCOLA  \n",
       "172300                 9.1               7.8  Maior que 90 alunos  \n",
       "172301                17.5               1.3  Maior que 90 alunos  \n",
       "172302                10.1              11.0  Maior que 90 alunos  \n",
       "172303                 8.6               0.0     De 1 a 30 alunos  \n",
       "172304                 5.0               0.0     De 1 a 30 alunos  \n",
       "\n",
       "[5 rows x 22 columns]"
      ]
     },
     "execution_count": 23,
     "metadata": {},
     "output_type": "execute_result"
    }
   ],
   "source": [
    "df.tail()"
   ]
  },
  {
   "cell_type": "markdown",
   "metadata": {},
   "source": [
    "<h3> Mostra os valores unicos de estados de escolar participantes do ENEM </h3>"
   ]
  },
  {
   "cell_type": "code",
   "execution_count": 24,
   "metadata": {},
   "outputs": [
    {
     "data": {
      "text/plain": [
       "array(['RO', 'AC', 'AM', 'RR', 'PA', 'AP', 'TO', 'MA', 'PI', 'CE', 'RN',\n",
       "       'PB', 'PE', 'AL', 'SE', 'BA', 'MG', 'ES', 'RJ', 'SP', 'PR', 'SC',\n",
       "       'RS', 'MS', 'MT', 'GO', 'DF'], dtype=object)"
      ]
     },
     "execution_count": 24,
     "metadata": {},
     "output_type": "execute_result"
    }
   ],
   "source": [
    "df[\"SG_UF_ESCOLA\"].unique()"
   ]
  },
  {
   "cell_type": "markdown",
   "metadata": {},
   "source": [
    "<h3> Quantidad de escolas por estado </h3>"
   ]
  },
  {
   "cell_type": "code",
   "execution_count": 25,
   "metadata": {},
   "outputs": [
    {
     "data": {
      "text/plain": [
       "SP    40264\n",
       "MG    20004\n",
       "RJ    13452\n",
       "RS    11151\n",
       "PR    10696\n",
       "BA     8780\n",
       "PE     7526\n",
       "CE     7215\n",
       "SC     6527\n",
       "GO     6107\n",
       "MA     3993\n",
       "PA     3938\n",
       "ES     3813\n",
       "PI     3596\n",
       "PB     3345\n",
       "MT     3296\n",
       "MS     3134\n",
       "RN     3049\n",
       "AM     2238\n",
       "AL     1879\n",
       "TO     1855\n",
       "SE     1710\n",
       "RO     1680\n",
       "DF     1581\n",
       "AC      564\n",
       "AP      544\n",
       "RR      368\n",
       "Name: SG_UF_ESCOLA, dtype: int64"
      ]
     },
     "execution_count": 25,
     "metadata": {},
     "output_type": "execute_result"
    }
   ],
   "source": [
    "df[\"SG_UF_ESCOLA\"].value_counts()"
   ]
  },
  {
   "cell_type": "markdown",
   "metadata": {},
   "source": [
    "<h3> Porcentagem de escolas por estado </h3>"
   ]
  },
  {
   "cell_type": "code",
   "execution_count": 26,
   "metadata": {},
   "outputs": [
    {
     "data": {
      "text/plain": [
       "SP    0.233679\n",
       "MG    0.116096\n",
       "RJ    0.078071\n",
       "RS    0.064717\n",
       "PR    0.062076\n",
       "BA    0.050956\n",
       "PE    0.043678\n",
       "CE    0.041873\n",
       "SC    0.037881\n",
       "GO    0.035443\n",
       "MA    0.023174\n",
       "PA    0.022855\n",
       "ES    0.022129\n",
       "PI    0.020870\n",
       "PB    0.019413\n",
       "MT    0.019129\n",
       "MS    0.018189\n",
       "RN    0.017695\n",
       "AM    0.012989\n",
       "AL    0.010905\n",
       "TO    0.010766\n",
       "SE    0.009924\n",
       "RO    0.009750\n",
       "DF    0.009176\n",
       "AC    0.003273\n",
       "AP    0.003157\n",
       "RR    0.002136\n",
       "Name: SG_UF_ESCOLA, dtype: float64"
      ]
     },
     "execution_count": 26,
     "metadata": {},
     "output_type": "execute_result"
    }
   ],
   "source": [
    "df[\"SG_UF_ESCOLA\"].value_counts(normalize = True)"
   ]
  },
  {
   "cell_type": "markdown",
   "metadata": {},
   "source": [
    "<h3> Número de itens do a serem retornados ordemando os valores por tava de aprovação </h3>"
   ]
  },
  {
   "cell_type": "code",
   "execution_count": 27,
   "metadata": {},
   "outputs": [
    {
     "data": {
      "text/html": [
       "<div>\n",
       "<style scoped>\n",
       "    .dataframe tbody tr th:only-of-type {\n",
       "        vertical-align: middle;\n",
       "    }\n",
       "\n",
       "    .dataframe tbody tr th {\n",
       "        vertical-align: top;\n",
       "    }\n",
       "\n",
       "    .dataframe thead th {\n",
       "        text-align: right;\n",
       "    }\n",
       "</style>\n",
       "<table border=\"1\" class=\"dataframe\">\n",
       "  <thead>\n",
       "    <tr style=\"text-align: right;\">\n",
       "      <th></th>\n",
       "      <th>NU_ANO</th>\n",
       "      <th>CO_UF_ESCOLA</th>\n",
       "      <th>SG_UF_ESCOLA</th>\n",
       "      <th>NO_MUNICIPIO_ESCOLA</th>\n",
       "      <th>NO_ESCOLA_EDUCACENSO</th>\n",
       "      <th>TP_DEPENDENCIA_ADM_ESCOLA</th>\n",
       "      <th>TP_LOCALIZACAO_ESCOLA</th>\n",
       "      <th>NU_MATRICULAS</th>\n",
       "      <th>NU_PARTICIPANTES_NEC_ESP</th>\n",
       "      <th>NU_PARTICIPANTES</th>\n",
       "      <th>...</th>\n",
       "      <th>NU_MEDIA_CH</th>\n",
       "      <th>NU_MEDIA_LP</th>\n",
       "      <th>NU_MEDIA_MT</th>\n",
       "      <th>NU_MEDIA_RED</th>\n",
       "      <th>NU_MEDIA_OBJ</th>\n",
       "      <th>NU_MEDIA_TOT</th>\n",
       "      <th>NU_TAXA_APROVACAO</th>\n",
       "      <th>NU_TAXA_REPROVACAO</th>\n",
       "      <th>NU_TAXA_ABANDONO</th>\n",
       "      <th>PORTE_ESCOLA</th>\n",
       "    </tr>\n",
       "  </thead>\n",
       "  <tbody>\n",
       "    <tr>\n",
       "      <th>124476</th>\n",
       "      <td>2010</td>\n",
       "      <td>35</td>\n",
       "      <td>SP</td>\n",
       "      <td>São Caetano do Sul</td>\n",
       "      <td>IDALINA MACEDO COSTA SODRE DONA</td>\n",
       "      <td>2</td>\n",
       "      <td>1</td>\n",
       "      <td>302</td>\n",
       "      <td>NaN</td>\n",
       "      <td>100</td>\n",
       "      <td>...</td>\n",
       "      <td>534.96</td>\n",
       "      <td>533.12</td>\n",
       "      <td>519.83</td>\n",
       "      <td>602.60</td>\n",
       "      <td>NaN</td>\n",
       "      <td>NaN</td>\n",
       "      <td>55.7</td>\n",
       "      <td>29.7</td>\n",
       "      <td>14.6</td>\n",
       "      <td>Maior que 90 alunos</td>\n",
       "    </tr>\n",
       "    <tr>\n",
       "      <th>107020</th>\n",
       "      <td>2013</td>\n",
       "      <td>31</td>\n",
       "      <td>MG</td>\n",
       "      <td>Uberlândia</td>\n",
       "      <td>EE ANTONIO T FERREIRA DE REZENDE</td>\n",
       "      <td>2</td>\n",
       "      <td>1</td>\n",
       "      <td>150</td>\n",
       "      <td>1.0</td>\n",
       "      <td>96</td>\n",
       "      <td>...</td>\n",
       "      <td>513.24</td>\n",
       "      <td>497.38</td>\n",
       "      <td>510.61</td>\n",
       "      <td>522.71</td>\n",
       "      <td>NaN</td>\n",
       "      <td>NaN</td>\n",
       "      <td>74.6</td>\n",
       "      <td>13.6</td>\n",
       "      <td>11.8</td>\n",
       "      <td>Maior que 90 alunos</td>\n",
       "    </tr>\n",
       "    <tr>\n",
       "      <th>112562</th>\n",
       "      <td>2013</td>\n",
       "      <td>32</td>\n",
       "      <td>ES</td>\n",
       "      <td>Cariacica</td>\n",
       "      <td>EEEFM PROFESSOR JOSE LEAO NUNES</td>\n",
       "      <td>2</td>\n",
       "      <td>1</td>\n",
       "      <td>80</td>\n",
       "      <td>3.0</td>\n",
       "      <td>69</td>\n",
       "      <td>...</td>\n",
       "      <td>501.10</td>\n",
       "      <td>474.50</td>\n",
       "      <td>508.84</td>\n",
       "      <td>493.91</td>\n",
       "      <td>NaN</td>\n",
       "      <td>NaN</td>\n",
       "      <td>75.4</td>\n",
       "      <td>23.8</td>\n",
       "      <td>0.8</td>\n",
       "      <td>De 61 a 90 alunos</td>\n",
       "    </tr>\n",
       "  </tbody>\n",
       "</table>\n",
       "<p>3 rows × 22 columns</p>\n",
       "</div>"
      ],
      "text/plain": [
       "        NU_ANO  CO_UF_ESCOLA SG_UF_ESCOLA NO_MUNICIPIO_ESCOLA  \\\n",
       "124476    2010            35           SP  São Caetano do Sul   \n",
       "107020    2013            31           MG          Uberlândia   \n",
       "112562    2013            32           ES           Cariacica   \n",
       "\n",
       "                    NO_ESCOLA_EDUCACENSO  TP_DEPENDENCIA_ADM_ESCOLA  \\\n",
       "124476   IDALINA MACEDO COSTA SODRE DONA                          2   \n",
       "107020  EE ANTONIO T FERREIRA DE REZENDE                          2   \n",
       "112562   EEEFM PROFESSOR JOSE LEAO NUNES                          2   \n",
       "\n",
       "        TP_LOCALIZACAO_ESCOLA  NU_MATRICULAS  NU_PARTICIPANTES_NEC_ESP  \\\n",
       "124476                      1            302                       NaN   \n",
       "107020                      1            150                       1.0   \n",
       "112562                      1             80                       3.0   \n",
       "\n",
       "        NU_PARTICIPANTES  ...  NU_MEDIA_CH  NU_MEDIA_LP  NU_MEDIA_MT  \\\n",
       "124476               100  ...       534.96       533.12       519.83   \n",
       "107020                96  ...       513.24       497.38       510.61   \n",
       "112562                69  ...       501.10       474.50       508.84   \n",
       "\n",
       "        NU_MEDIA_RED  NU_MEDIA_OBJ  NU_MEDIA_TOT  NU_TAXA_APROVACAO  \\\n",
       "124476        602.60           NaN           NaN               55.7   \n",
       "107020        522.71           NaN           NaN               74.6   \n",
       "112562        493.91           NaN           NaN               75.4   \n",
       "\n",
       "        NU_TAXA_REPROVACAO  NU_TAXA_ABANDONO         PORTE_ESCOLA  \n",
       "124476                29.7              14.6  Maior que 90 alunos  \n",
       "107020                13.6              11.8  Maior que 90 alunos  \n",
       "112562                23.8               0.8    De 61 a 90 alunos  \n",
       "\n",
       "[3 rows x 22 columns]"
      ]
     },
     "execution_count": 27,
     "metadata": {},
     "output_type": "execute_result"
    }
   ],
   "source": [
    "df.sample(3).sort_values(by= \"NU_TAXA_APROVACAO\")"
   ]
  },
  {
   "cell_type": "markdown",
   "metadata": {},
   "source": [
    "<h3> Quantidade de registros de cada coluna do dataframe </h3>"
   ]
  },
  {
   "cell_type": "code",
   "execution_count": 28,
   "metadata": {},
   "outputs": [
    {
     "data": {
      "text/plain": [
       "NU_ANO                       172305\n",
       "CO_UF_ESCOLA                 172305\n",
       "SG_UF_ESCOLA                 172305\n",
       "NO_MUNICIPIO_ESCOLA          172305\n",
       "NO_ESCOLA_EDUCACENSO         172305\n",
       "TP_DEPENDENCIA_ADM_ESCOLA    172305\n",
       "TP_LOCALIZACAO_ESCOLA        172305\n",
       "NU_MATRICULAS                172305\n",
       "NU_PARTICIPANTES_NEC_ESP      45355\n",
       "NU_PARTICIPANTES             172305\n",
       "NU_TAXA_PARTICIPACAO         104687\n",
       "NU_MEDIA_CN                  104687\n",
       "NU_MEDIA_CH                  104687\n",
       "NU_MEDIA_LP                  104687\n",
       "NU_MEDIA_MT                  104687\n",
       "NU_MEDIA_RED                 123451\n",
       "NU_MEDIA_OBJ                  19144\n",
       "NU_MEDIA_TOT                  48474\n",
       "NU_TAXA_APROVACAO            155226\n",
       "NU_TAXA_REPROVACAO           155226\n",
       "NU_TAXA_ABANDONO             155226\n",
       "PORTE_ESCOLA                 172305\n",
       "dtype: int64"
      ]
     },
     "execution_count": 28,
     "metadata": {},
     "output_type": "execute_result"
    }
   ],
   "source": [
    "df.count()"
   ]
  },
  {
   "cell_type": "markdown",
   "metadata": {},
   "source": [
    "<h3> Aqui nós estamos indicando que  iremos usar o estilo de grafico \"seaborn-darkgrid\" </h3>"
   ]
  },
  {
   "cell_type": "code",
   "execution_count": 29,
   "metadata": {},
   "outputs": [],
   "source": [
    "plt.style.use('seaborn-darkgrid')"
   ]
  },
  {
   "cell_type": "markdown",
   "metadata": {},
   "source": [
    "<h3> Media dos alunos de SP de ciencias naturais</h3>"
   ]
  },
  {
   "cell_type": "code",
   "execution_count": 30,
   "metadata": {},
   "outputs": [
    {
     "data": {
      "text/plain": [
       "507.21080203442875"
      ]
     },
     "execution_count": 30,
     "metadata": {},
     "output_type": "execute_result"
    }
   ],
   "source": [
    "df.query('SG_UF_ESCOLA == \"SP\"')['NU_MEDIA_CN'].mean()"
   ]
  },
  {
   "cell_type": "markdown",
   "metadata": {},
   "source": [
    "<h3> Media dos alunos do RJ de Redação</h3>"
   ]
  },
  {
   "cell_type": "code",
   "execution_count": 22,
   "metadata": {},
   "outputs": [
    {
     "data": {
      "text/plain": [
       "510.4264779104149"
      ]
     },
     "execution_count": 22,
     "metadata": {},
     "output_type": "execute_result"
    }
   ],
   "source": [
    "df.query('SG_UF_ESCOLA == \"RJ\"')['NU_MEDIA_RED'].mean()"
   ]
  },
  {
   "cell_type": "markdown",
   "metadata": {},
   "source": [
    "<h3> Numero de participantes por ano </h3>"
   ]
  },
  {
   "cell_type": "code",
   "execution_count": 4,
   "metadata": {},
   "outputs": [],
   "source": [
    "qtdparticipantes = df.query(\"NU_ANO > 2010\").groupby([\"NU_ANO\"])['NU_PARTICIPANTES'].count()"
   ]
  },
  {
   "cell_type": "markdown",
   "metadata": {},
   "source": [
    "<h3> Grafico Nº Participantes por ano </h3>"
   ]
  },
  {
   "cell_type": "code",
   "execution_count": 5,
   "metadata": {},
   "outputs": [
    {
     "data": {
      "text/plain": [
       "array([<matplotlib.axes._subplots.AxesSubplot object at 0x0ADD3650>],\n",
       "      dtype=object)"
      ]
     },
     "execution_count": 5,
     "metadata": {},
     "output_type": "execute_result"
    },
    {
     "data": {
      "image/png": "[encoded data removed]",
      "text/plain": [
       "<Figure size 432x288 with 1 Axes>"
      ]
     },
     "metadata": {},
     "output_type": "display_data"
    }
   ],
   "source": [
    "qtdparticipantes.plot.pie(subplots=True)"
   ]
  },
  {
   "cell_type": "markdown",
   "metadata": {},
   "source": [
    "<h3> Quantidade de particiopantes por ano</h3>"
   ]
  },
  {
   "cell_type": "code",
   "execution_count": 14,
   "metadata": {},
   "outputs": [
    {
     "data": {
      "text/plain": [
       "(array([16052.,     0.,     0., 15652.,     0.,     0., 16770.,     0.,\n",
       "            0., 19144.,     0.,     0., 18042.,     0.,     0., 19691.,\n",
       "            0.,     0., 10077.,     0.,     0., 11522.,     0.,     0.,\n",
       "        14117.,     0.,     0., 15640.,     0., 15598.]),\n",
       " array([2005.        , 2005.33333333, 2005.66666667, 2006.        ,\n",
       "        2006.33333333, 2006.66666667, 2007.        , 2007.33333333,\n",
       "        2007.66666667, 2008.        , 2008.33333333, 2008.66666667,\n",
       "        2009.        , 2009.33333333, 2009.66666667, 2010.        ,\n",
       "        2010.33333333, 2010.66666667, 2011.        , 2011.33333333,\n",
       "        2011.66666667, 2012.        , 2012.33333333, 2012.66666667,\n",
       "        2013.        , 2013.33333333, 2013.66666667, 2014.        ,\n",
       "        2014.33333333, 2014.66666667, 2015.        ]),\n",
       " <a list of 30 Patch objects>)"
      ]
     },
     "execution_count": 14,
     "metadata": {},
     "output_type": "execute_result"
    },
    {
     "data": {
      "image/png": "[encoded data removed]",
      "text/plain": [
       "<Figure size 432x288 with 1 Axes>"
      ]
     },
     "metadata": {
      "needs_background": "light"
     },
     "output_type": "display_data"
    }
   ],
   "source": [
    "df['NU_PARTICIPANTES'].fillna(df.groupby([\"NU_ANO\"])['NU_PARTICIPANTES'].count(), inplace=False)\n",
    "plt.hist(df['NU_ANO'], bins=30) "
   ]
  },
  {
   "cell_type": "markdown",
   "metadata": {},
   "source": [
    "<h3> Média de LP nos estados de SP, RJ, RS, MG, SC, BA, PE </h3>"
   ]
  },
  {
   "cell_type": "code",
   "execution_count": 11,
   "metadata": {},
   "outputs": [],
   "source": [
    "mediaLPporUF = df.query(\"SG_UF_ESCOLA in ('SP', 'RJ', 'RS', 'MG', 'SC', 'BA', 'PE')\").groupby([\"SG_UF_ESCOLA\"])['NU_MEDIA_LP'].mean()"
   ]
  },
  {
   "cell_type": "code",
   "execution_count": 9,
   "metadata": {},
   "outputs": [
    {
     "data": {
      "text/plain": [
       "array([<matplotlib.axes._subplots.AxesSubplot object at 0x0B9D6D70>],\n",
       "      dtype=object)"
      ]
     },
     "execution_count": 9,
     "metadata": {},
     "output_type": "execute_result"
    },
    {
     "data": {
      "image/png": "[encoded data removed]",
      "text/plain": [
       "<Figure size 432x288 with 1 Axes>"
      ]
     },
     "metadata": {
      "needs_background": "light"
     },
     "output_type": "display_data"
    }
   ],
   "source": [
    "mediaLPporUF.plot.bar(subplots=True)"
   ]
  },
  {
   "cell_type": "markdown",
   "metadata": {},
   "source": [
    "<h3> Média de Redação nos estados de SP, RJ, RS, MG, SC, BA, PE </h3>"
   ]
  },
  {
   "cell_type": "code",
   "execution_count": 5,
   "metadata": {},
   "outputs": [],
   "source": [
    "mediaLPporUF = df.query(\"SG_UF_ESCOLA in ('SP', 'RJ', 'RS', 'MG', 'SC', 'BA', 'PE')\").groupby([\"SG_UF_ESCOLA\"])['NU_MEDIA_RED'].mean()\n"
   ]
  },
  {
   "cell_type": "code",
   "execution_count": 11,
   "metadata": {},
   "outputs": [
    {
     "data": {
      "text/plain": [
       "array([<matplotlib.axes._subplots.AxesSubplot object at 0x0B480D30>],\n",
       "      dtype=object)"
      ]
     },
     "execution_count": 11,
     "metadata": {},
     "output_type": "execute_result"
    },
    {
     "data": {
      "image/png": "[encoded data removed]",
      "text/plain": [
       "<Figure size 432x288 with 1 Axes>"
      ]
     },
     "metadata": {
      "needs_background": "light"
     },
     "output_type": "display_data"
    }
   ],
   "source": [
    "mediaLPporUF.plot.bar(subplots=True, color = \"green\")"
   ]
  },
  {
   "cell_type": "markdown",
   "metadata": {},
   "source": [
    "<h3> Média de CN por ano</h3>"
   ]
  },
  {
   "cell_type": "code",
   "execution_count": 12,
   "metadata": {},
   "outputs": [
    {
     "data": {
      "text/html": [
       "<div>\n",
       "<style scoped>\n",
       "    .dataframe tbody tr th:only-of-type {\n",
       "        vertical-align: middle;\n",
       "    }\n",
       "\n",
       "    .dataframe tbody tr th {\n",
       "        vertical-align: top;\n",
       "    }\n",
       "\n",
       "    .dataframe thead tr th {\n",
       "        text-align: left;\n",
       "    }\n",
       "\n",
       "    .dataframe thead tr:last-of-type th {\n",
       "        text-align: right;\n",
       "    }\n",
       "</style>\n",
       "<table border=\"1\" class=\"dataframe\">\n",
       "  <thead>\n",
       "    <tr>\n",
       "      <th></th>\n",
       "      <th colspan=\"2\" halign=\"left\">NU_MEDIA_CN</th>\n",
       "    </tr>\n",
       "    <tr>\n",
       "      <th></th>\n",
       "      <th>count</th>\n",
       "      <th>mean</th>\n",
       "    </tr>\n",
       "    <tr>\n",
       "      <th>NU_ANO</th>\n",
       "      <th></th>\n",
       "      <th></th>\n",
       "    </tr>\n",
       "  </thead>\n",
       "  <tbody>\n",
       "    <tr>\n",
       "      <th>2009</th>\n",
       "      <td>18042</td>\n",
       "      <td>496.596646</td>\n",
       "    </tr>\n",
       "    <tr>\n",
       "      <th>2010</th>\n",
       "      <td>19691</td>\n",
       "      <td>481.824863</td>\n",
       "    </tr>\n",
       "    <tr>\n",
       "      <th>2011</th>\n",
       "      <td>10077</td>\n",
       "      <td>489.480268</td>\n",
       "    </tr>\n",
       "    <tr>\n",
       "      <th>2012</th>\n",
       "      <td>11522</td>\n",
       "      <td>491.434219</td>\n",
       "    </tr>\n",
       "    <tr>\n",
       "      <th>2013</th>\n",
       "      <td>14117</td>\n",
       "      <td>488.303045</td>\n",
       "    </tr>\n",
       "    <tr>\n",
       "      <th>2014</th>\n",
       "      <td>15640</td>\n",
       "      <td>498.740652</td>\n",
       "    </tr>\n",
       "    <tr>\n",
       "      <th>2015</th>\n",
       "      <td>15598</td>\n",
       "      <td>490.865533</td>\n",
       "    </tr>\n",
       "  </tbody>\n",
       "</table>\n",
       "</div>"
      ],
      "text/plain": [
       "       NU_MEDIA_CN            \n",
       "             count        mean\n",
       "NU_ANO                        \n",
       "2009         18042  496.596646\n",
       "2010         19691  481.824863\n",
       "2011         10077  489.480268\n",
       "2012         11522  491.434219\n",
       "2013         14117  488.303045\n",
       "2014         15640  498.740652\n",
       "2015         15598  490.865533"
      ]
     },
     "execution_count": 12,
     "metadata": {},
     "output_type": "execute_result"
    }
   ],
   "source": [
    "mediacnporano = df.query(\"NU_ANO > 2008\").pivot_table(values=['NU_MEDIA_CN'], index=['NU_ANO'], aggfunc={'NU_MEDIA_CN': [np.mean,'count']})\n",
    "mediacnporano"
   ]
  },
  {
   "cell_type": "code",
   "execution_count": 7,
   "metadata": {},
   "outputs": [
    {
     "data": {
      "text/plain": [
       "array([<matplotlib.axes._subplots.AxesSubplot object at 0x0CA08C70>,\n",
       "       <matplotlib.axes._subplots.AxesSubplot object at 0x0B244F30>],\n",
       "      dtype=object)"
      ]
     },
     "execution_count": 7,
     "metadata": {},
     "output_type": "execute_result"
    },
    {
     "data": {
      "image/png": "[encoded data removed]",
      "text/plain": [
       "<Figure size 432x288 with 2 Axes>"
      ]
     },
     "metadata": {
      "needs_background": "light"
     },
     "output_type": "display_data"
    }
   ],
   "source": [
    "mediacnporano.plot.line(subplots=True)"
   ]
  },
  {
   "cell_type": "markdown",
   "metadata": {},
   "source": [
    "<h3>Média de MT por ano</h3>"
   ]
  },
  {
   "cell_type": "code",
   "execution_count": 19,
   "metadata": {},
   "outputs": [
    {
     "data": {
      "text/html": [
       "<div>\n",
       "<style scoped>\n",
       "    .dataframe tbody tr th:only-of-type {\n",
       "        vertical-align: middle;\n",
       "    }\n",
       "\n",
       "    .dataframe tbody tr th {\n",
       "        vertical-align: top;\n",
       "    }\n",
       "\n",
       "    .dataframe thead tr th {\n",
       "        text-align: left;\n",
       "    }\n",
       "\n",
       "    .dataframe thead tr:last-of-type th {\n",
       "        text-align: right;\n",
       "    }\n",
       "</style>\n",
       "<table border=\"1\" class=\"dataframe\">\n",
       "  <thead>\n",
       "    <tr>\n",
       "      <th></th>\n",
       "      <th colspan=\"2\" halign=\"left\">NU_MEDIA_MT</th>\n",
       "    </tr>\n",
       "    <tr>\n",
       "      <th></th>\n",
       "      <th>count</th>\n",
       "      <th>mean</th>\n",
       "    </tr>\n",
       "    <tr>\n",
       "      <th>NU_ANO</th>\n",
       "      <th></th>\n",
       "      <th></th>\n",
       "    </tr>\n",
       "  </thead>\n",
       "  <tbody>\n",
       "    <tr>\n",
       "      <th>2009</th>\n",
       "      <td>18042</td>\n",
       "      <td>495.707380</td>\n",
       "    </tr>\n",
       "    <tr>\n",
       "      <th>2010</th>\n",
       "      <td>19691</td>\n",
       "      <td>504.591269</td>\n",
       "    </tr>\n",
       "    <tr>\n",
       "      <th>2011</th>\n",
       "      <td>10077</td>\n",
       "      <td>555.238564</td>\n",
       "    </tr>\n",
       "    <tr>\n",
       "      <th>2012</th>\n",
       "      <td>11522</td>\n",
       "      <td>540.989434</td>\n",
       "    </tr>\n",
       "    <tr>\n",
       "      <th>2013</th>\n",
       "      <td>14117</td>\n",
       "      <td>535.437023</td>\n",
       "    </tr>\n",
       "    <tr>\n",
       "      <th>2014</th>\n",
       "      <td>15640</td>\n",
       "      <td>495.663815</td>\n",
       "    </tr>\n",
       "    <tr>\n",
       "      <th>2015</th>\n",
       "      <td>15598</td>\n",
       "      <td>492.569628</td>\n",
       "    </tr>\n",
       "  </tbody>\n",
       "</table>\n",
       "</div>"
      ],
      "text/plain": [
       "       NU_MEDIA_MT            \n",
       "             count        mean\n",
       "NU_ANO                        \n",
       "2009         18042  495.707380\n",
       "2010         19691  504.591269\n",
       "2011         10077  555.238564\n",
       "2012         11522  540.989434\n",
       "2013         14117  535.437023\n",
       "2014         15640  495.663815\n",
       "2015         15598  492.569628"
      ]
     },
     "execution_count": 19,
     "metadata": {},
     "output_type": "execute_result"
    }
   ],
   "source": [
    "mediaMTporano = df.query(\"NU_ANO > 2008\").pivot_table(values=['NU_MEDIA_MT'], index=['NU_ANO'], aggfunc={'NU_MEDIA_MT': [np.mean,'count']})\n",
    "mediaMTporano"
   ]
  },
  {
   "cell_type": "code",
   "execution_count": null,
   "metadata": {},
   "outputs": [],
   "source": []
  },
  {
   "cell_type": "code",
   "execution_count": 18,
   "metadata": {},
   "outputs": [
    {
     "data": {
      "text/plain": [
       "array([<matplotlib.axes._subplots.AxesSubplot object at 0x0C9FCB10>,\n",
       "       <matplotlib.axes._subplots.AxesSubplot object at 0x0CA91D30>],\n",
       "      dtype=object)"
      ]
     },
     "execution_count": 18,
     "metadata": {},
     "output_type": "execute_result"
    },
    {
     "data": {
      "image/png": "[encoded data removed]",
      "text/plain": [
       "<Figure size 432x288 with 2 Axes>"
      ]
     },
     "metadata": {
      "needs_background": "light"
     },
     "output_type": "display_data"
    }
   ],
   "source": [
    "mediaMTporano.plot.bar(subplots=True, color = \"green\")"
   ]
  },
  {
   "cell_type": "code",
   "execution_count": 8,
   "metadata": {},
   "outputs": [],
   "source": [
    "mediamtporano = df.query(\"NU_ANO > 2008\").pivot_table(values=['NU_MEDIA_MT'], index=['NU_ANO'], aggfunc={'NU_MEDIA_MT': [np.mean,'count']})"
   ]
  },
  {
   "cell_type": "code",
   "execution_count": 9,
   "metadata": {},
   "outputs": [
    {
     "data": {
      "text/plain": [
       "array([<matplotlib.axes._subplots.AxesSubplot object at 0x0B2D4030>,\n",
       "       <matplotlib.axes._subplots.AxesSubplot object at 0x0B3A2D50>],\n",
       "      dtype=object)"
      ]
     },
     "execution_count": 9,
     "metadata": {},
     "output_type": "execute_result"
    },
    {
     "data": {
      "image/png": "[encoded data removed]",
      "text/plain": [
       "<Figure size 432x288 with 2 Axes>"
      ]
     },
     "metadata": {
      "needs_background": "light"
     },
     "output_type": "display_data"
    }
   ],
   "source": [
    "mediamtporano.plot.line(subplots=True)"
   ]
  },
  {
   "cell_type": "code",
   "execution_count": null,
   "metadata": {},
   "outputs": [],
   "source": []
  }
 ],
 "metadata": {
  "kernelspec": {
   "display_name": "Python 3",
   "language": "python",
   "name": "python3"
  },
  "language_info": {
   "codemirror_mode": {
    "name": "ipython",
    "version": 3
   },
   "file_extension": ".py",
   "mimetype": "text/x-python",
   "name": "python",
   "nbconvert_exporter": "python",
   "pygments_lexer": "ipython3",
   "version": "3.7.4"
  }
 },
 "nbformat": 4,
 "nbformat_minor": 2
}
